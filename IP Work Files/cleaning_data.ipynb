{
 "cells": [
  {
   "cell_type": "markdown",
   "metadata": {},
   "source": [
    "### Cleaning and Processing Data"
   ]
  },
  {
   "cell_type": "code",
   "execution_count": 28,
   "metadata": {},
   "outputs": [],
   "source": [
    "# Importing required libraries\n",
    "import pandas as pd\n",
    "import os\n",
    "import datetime\n",
    "import math\n",
    "import numpy as np\n",
    "\n",
    "# Reading CSV files\n",
    "data = 'data/data.csv'\n",
    "genres = 'data/data_w_genres.csv'\n",
    "mus_data = pd.read_csv(data)\n",
    "genres_data = pd.read_csv(genres)"
   ]
  },
  {
   "cell_type": "code",
   "execution_count": 29,
   "metadata": {},
   "outputs": [],
   "source": [
    "# Cleaning genres column's str values\n",
    "genres_data['genres'] = genres_data['genres'].str.replace(r\"[\\\"\\])([']\", '')\n",
    "genres_data['artists'] = genres_data['artists'].str.replace(r\"[\\\"\\])(*[']\", '')\n",
    "genres_data['artists'] = genres_data['artists'].str.replace(r\"[$]\", 'S')"
   ]
  },
  {
   "cell_type": "code",
   "execution_count": 30,
   "metadata": {},
   "outputs": [],
   "source": [
    "# Keeping only selected columns for genres\n",
    "genres_data = genres_data[['artists', 'genres']]"
   ]
  },
  {
   "cell_type": "code",
   "execution_count": 31,
   "metadata": {},
   "outputs": [],
   "source": [
    "# Cleaning main data column's str values\n",
    "mus_data['artists'] = mus_data['artists'].str.replace(r\"[\\\"\\])(*[']\", '')\n",
    "mus_data['artists'] = mus_data['artists'].str.replace(r\"$\", 'S')"
   ]
  },
  {
   "cell_type": "code",
   "execution_count": 32,
   "metadata": {},
   "outputs": [],
   "source": [
    "# Creating decades column to sort data by 10 years intervals\n",
    "mus_data['decade'] = np.floor(mus_data['year']/10)*10"
   ]
  },
  {
   "cell_type": "code",
   "execution_count": 33,
   "metadata": {},
   "outputs": [],
   "source": [
    "# Assigning Int64 to decades column values\n",
    "mus_data = mus_data.astype({\"decade\": int})"
   ]
  },
  {
   "cell_type": "code",
   "execution_count": 34,
   "metadata": {},
   "outputs": [],
   "source": [
    "# Adding additional artist_songs column to get accurate song's counts per decades\n",
    "mus_data['artist_song'] = mus_data['artists'] + ' - ' + mus_data['name']"
   ]
  },
  {
   "cell_type": "code",
   "execution_count": 35,
   "metadata": {},
   "outputs": [],
   "source": [
    "# Merging dataframes - genres data with main data\n",
    "all_data = mus_data.merge(genres_data, on='artists', how='left')\n",
    "# merged_data.shape"
   ]
  },
  {
   "cell_type": "code",
   "execution_count": 36,
   "metadata": {},
   "outputs": [],
   "source": [
    "# Replacing NaN values with empty values after merging\n",
    "all_data['genres'].fillna('', inplace=True)\n",
    "# merged_data.shape"
   ]
  },
  {
   "cell_type": "code",
   "execution_count": 37,
   "metadata": {},
   "outputs": [],
   "source": [
    "# Sorting data by duration in order to drop non-music items\n",
    "all_data = all_data.sort_values('duration_ms',ascending=False)"
   ]
  },
  {
   "cell_type": "code",
   "execution_count": 38,
   "metadata": {},
   "outputs": [],
   "source": [
    "# Cleaning merged data, dropping audio books\n",
    "all_data.drop(all_data.loc[all_data['duration_ms'] >= 1000000].index, inplace=True)\n",
    "all_data.drop(all_data.loc[all_data['artists'] == 'Georgette Heyer, Irina Salkow'].index, inplace=True)\n",
    "all_data.drop(all_data.loc[all_data['artists'] == 'Трумен Капоте'].index, inplace=True)\n",
    "all_data.drop(all_data.loc[all_data['artists'] == 'Seweryn Goszczyński'].index, inplace=True)\n",
    "all_data.drop(all_data.loc[all_data['artists'] == 'H.P. Lovecraft'].index, inplace=True)\n",
    "all_data.drop(all_data.loc[all_data['artists'] == 'Эрих Мария Ремарк'].index, inplace=True)\n",
    "all_data.drop(all_data.loc[all_data['artists'] == 'Эрнест Хемингуэй'].index, inplace=True)"
   ]
  },
  {
   "cell_type": "code",
   "execution_count": 39,
   "metadata": {},
   "outputs": [],
   "source": [
    "all_data = all_data.drop(['release_date'], axis = 1)"
   ]
  },
  {
   "cell_type": "code",
   "execution_count": 40,
   "metadata": {},
   "outputs": [
    {
     "data": {
      "text/plain": [
       "(167030, 21)"
      ]
     },
     "execution_count": 40,
     "metadata": {},
     "output_type": "execute_result"
    }
   ],
   "source": [
    "all_data.shape"
   ]
  },
  {
   "cell_type": "code",
   "execution_count": 41,
   "metadata": {},
   "outputs": [],
   "source": [
    "all_data = all_data.drop_duplicates(subset='artist_song', keep=\"first\")"
   ]
  },
  {
   "cell_type": "code",
   "execution_count": 42,
   "metadata": {},
   "outputs": [
    {
     "data": {
      "text/plain": [
       "(154093, 21)"
      ]
     },
     "execution_count": 42,
     "metadata": {},
     "output_type": "execute_result"
    }
   ],
   "source": [
    "all_data.shape"
   ]
  },
  {
   "cell_type": "code",
   "execution_count": 43,
   "metadata": {},
   "outputs": [],
   "source": [
    "# Rearranging and renaming columns order\n",
    "clean_data_all = all_data[['decade', 'year', 'artists', 'name', 'genres', 'duration_ms', 'artist_song', 'valence', 'acousticness', 'danceability', 'energy', 'explicit', 'instrumentalness', 'key', 'liveness', 'loudness', 'mode', 'popularity', 'speechiness', 'tempo', 'id']]"
   ]
  },
  {
   "cell_type": "code",
   "execution_count": 44,
   "metadata": {},
   "outputs": [],
   "source": [
    "clean_data_all.columns = ['Decade', 'Year', 'Artist', 'Song', 'Genre', 'Duration_ms', 'ArtistSong', 'Valence', 'Acousticness', 'Danceability', 'Energy', 'Explicit', 'Instrumentalness', 'Key', 'Liveness', 'Loudness', 'Mode', 'Popularity', 'Speechiness', 'Tempo', 'ID']"
   ]
  },
  {
   "cell_type": "code",
   "execution_count": 45,
   "metadata": {},
   "outputs": [],
   "source": [
    "clean_data_all.reset_index(drop=True, inplace=True)"
   ]
  },
  {
   "cell_type": "code",
   "execution_count": 46,
   "metadata": {},
   "outputs": [
    {
     "data": {
      "text/html": [
       "<div>\n",
       "<style scoped>\n",
       "    .dataframe tbody tr th:only-of-type {\n",
       "        vertical-align: middle;\n",
       "    }\n",
       "\n",
       "    .dataframe tbody tr th {\n",
       "        vertical-align: top;\n",
       "    }\n",
       "\n",
       "    .dataframe thead th {\n",
       "        text-align: right;\n",
       "    }\n",
       "</style>\n",
       "<table border=\"1\" class=\"dataframe\">\n",
       "  <thead>\n",
       "    <tr style=\"text-align: right;\">\n",
       "      <th></th>\n",
       "      <th>Decade</th>\n",
       "      <th>Year</th>\n",
       "      <th>Artist</th>\n",
       "      <th>Song</th>\n",
       "      <th>Genre</th>\n",
       "      <th>Duration_ms</th>\n",
       "      <th>ArtistSong</th>\n",
       "      <th>Valence</th>\n",
       "      <th>Acousticness</th>\n",
       "      <th>Danceability</th>\n",
       "      <th>...</th>\n",
       "      <th>Explicit</th>\n",
       "      <th>Instrumentalness</th>\n",
       "      <th>Key</th>\n",
       "      <th>Liveness</th>\n",
       "      <th>Loudness</th>\n",
       "      <th>Mode</th>\n",
       "      <th>Popularity</th>\n",
       "      <th>Speechiness</th>\n",
       "      <th>Tempo</th>\n",
       "      <th>ID</th>\n",
       "    </tr>\n",
       "  </thead>\n",
       "  <tbody>\n",
       "    <tr>\n",
       "      <th>0</th>\n",
       "      <td>1940</td>\n",
       "      <td>1940</td>\n",
       "      <td>Various Artists, Igor Stravinsky</td>\n",
       "      <td>A propos of Le Sacre - Commentary by Igor Stra...</td>\n",
       "      <td></td>\n",
       "      <td>999827</td>\n",
       "      <td>Various Artists, Igor Stravinsky - A propos of...</td>\n",
       "      <td>0.405</td>\n",
       "      <td>0.35</td>\n",
       "      <td>0.635</td>\n",
       "      <td>...</td>\n",
       "      <td>0</td>\n",
       "      <td>0.0</td>\n",
       "      <td>1</td>\n",
       "      <td>0.383</td>\n",
       "      <td>-30.467</td>\n",
       "      <td>0</td>\n",
       "      <td>0</td>\n",
       "      <td>0.93</td>\n",
       "      <td>85.65</td>\n",
       "      <td>431ryeJJoLFxBX1iSJFMde</td>\n",
       "    </tr>\n",
       "  </tbody>\n",
       "</table>\n",
       "<p>1 rows × 21 columns</p>\n",
       "</div>"
      ],
      "text/plain": [
       "   Decade  Year                            Artist  \\\n",
       "0    1940  1940  Various Artists, Igor Stravinsky   \n",
       "\n",
       "                                                Song Genre  Duration_ms  \\\n",
       "0  A propos of Le Sacre - Commentary by Igor Stra...             999827   \n",
       "\n",
       "                                          ArtistSong  Valence  Acousticness  \\\n",
       "0  Various Artists, Igor Stravinsky - A propos of...    0.405          0.35   \n",
       "\n",
       "   Danceability  ...  Explicit  Instrumentalness  Key  Liveness  Loudness  \\\n",
       "0         0.635  ...         0               0.0    1     0.383   -30.467   \n",
       "\n",
       "   Mode  Popularity  Speechiness  Tempo                      ID  \n",
       "0     0           0         0.93  85.65  431ryeJJoLFxBX1iSJFMde  \n",
       "\n",
       "[1 rows x 21 columns]"
      ]
     },
     "execution_count": 46,
     "metadata": {},
     "output_type": "execute_result"
    }
   ],
   "source": [
    "clean_data_all.head(1)"
   ]
  },
  {
   "cell_type": "code",
   "execution_count": 47,
   "metadata": {},
   "outputs": [],
   "source": [
    "# Saving master clean data to csv file\n",
    "clean_data_all.to_csv('data/clean_data_all.csv', encoding='utf-8', index=False)"
   ]
  },
  {
   "cell_type": "markdown",
   "metadata": {},
   "source": [
    "### Dividing data into decades to find out top-10 artists"
   ]
  },
  {
   "cell_type": "code",
   "execution_count": null,
   "metadata": {},
   "outputs": [],
   "source": [
    "# 1920s decade\n",
    "\n",
    "mus_1920s = merged_data[merged_data['Decade']==1920]\n",
    "top10songs20s = mus_1920s.sort_values(['Popularity'], ascending=False)\n",
    "top10songs20s.head(5)"
   ]
  },
  {
   "cell_type": "code",
   "execution_count": null,
   "metadata": {},
   "outputs": [],
   "source": [
    "a20 = mus_1920s['Artist/Band'].value_counts().sort_values(ascending=False).head(10)\n",
    "top10artists20s = pd.DataFrame({'Artist/Band':a20.index}).merge(mus_1920s, how='left')\n",
    "top10artists20s['Artist/Band'].value_counts().nlargest(10)"
   ]
  },
  {
   "cell_type": "code",
   "execution_count": null,
   "metadata": {},
   "outputs": [],
   "source": [
    "# 1930s decade\n",
    "\n",
    "mus_1930s = merged_data[merged_data['Decade']==1930]\n",
    "top10songs30s = mus_1930s.sort_values(['Popularity'], ascending=False)\n",
    "top10songs30s.head(5)"
   ]
  },
  {
   "cell_type": "code",
   "execution_count": null,
   "metadata": {},
   "outputs": [],
   "source": [
    "a30 = mus_1930s['artists'].value_counts().sort_values(ascending=False).head(10)\n",
    "top10artists30s = pd.DataFrame({'artists':a30.index}).merge(mus_1930s, how='left')\n",
    "top10artists30s['artists'].value_counts().nlargest(10)"
   ]
  },
  {
   "cell_type": "code",
   "execution_count": null,
   "metadata": {},
   "outputs": [],
   "source": [
    "# 1930s decade\n",
    "\n",
    "mus_1940s = merged_data[merged_data['decade']==1940]\n",
    "top10songs40s = mus_1940s.sort_values(['popularity'], ascending=False)\n",
    "top10songs40s.head(5)"
   ]
  },
  {
   "cell_type": "code",
   "execution_count": null,
   "metadata": {},
   "outputs": [],
   "source": [
    "a40 = mus_1940s['artists'].value_counts().sort_values(ascending=False).head(10)\n",
    "top10artists40s = pd.DataFrame({'artists':a40.index}).merge(mus_1940s, how='left')\n",
    "top10artists40s['artists'].value_counts().nlargest(10)"
   ]
  },
  {
   "cell_type": "code",
   "execution_count": null,
   "metadata": {},
   "outputs": [],
   "source": [
    "# 1950s decade\n",
    "\n",
    "mus_1950s = merged_data[merged_data['decade']==1950]\n",
    "top10songs50s = mus_1950s.sort_values(['popularity'], ascending=False)\n",
    "top10songs50s.head(5)"
   ]
  },
  {
   "cell_type": "code",
   "execution_count": null,
   "metadata": {},
   "outputs": [],
   "source": [
    "a50 = mus_1950s['artists'].value_counts().sort_values(ascending=False).head(10)\n",
    "top10artists50s = pd.DataFrame({'artists':a50.index}).merge(mus_1950s, how='left')\n",
    "top10artists50s['artists'].value_counts().nlargest(10)"
   ]
  },
  {
   "cell_type": "code",
   "execution_count": null,
   "metadata": {},
   "outputs": [],
   "source": [
    "# 1960s decade\n",
    "\n",
    "mus_1960s = merged_data[merged_data['decade']==1960]\n",
    "top10songs60s = mus_1960s.sort_values(['popularity'], ascending=False)\n",
    "top10songs60s.head(5)"
   ]
  },
  {
   "cell_type": "code",
   "execution_count": null,
   "metadata": {},
   "outputs": [],
   "source": [
    "a60 = mus_1960s['artists'].value_counts().sort_values(ascending=False).head(10)\n",
    "top10artists60s = pd.DataFrame({'artists':a60.index}).merge(mus_1960s, how='left')\n",
    "top10artists60s['artists'].value_counts().nlargest(10)"
   ]
  },
  {
   "cell_type": "code",
   "execution_count": null,
   "metadata": {},
   "outputs": [],
   "source": [
    "# 1970s decade\n",
    "\n",
    "mus_1970s = merged_data[merged_data['decade']==1970]\n",
    "top10songs70s = mus_1970s.sort_values(['popularity'], ascending=False)\n",
    "top10songs70s.head(5)"
   ]
  },
  {
   "cell_type": "code",
   "execution_count": null,
   "metadata": {},
   "outputs": [],
   "source": [
    "a70 = mus_1970s['artists'].value_counts().sort_values(ascending=False).head(10)\n",
    "top10artists70s = pd.DataFrame({'artists':a70.index}).merge(mus_1970s, how='left')\n",
    "top10artists70s['artists'].value_counts().nlargest(10)"
   ]
  },
  {
   "cell_type": "code",
   "execution_count": null,
   "metadata": {},
   "outputs": [],
   "source": [
    "# 1980s decade\n",
    "\n",
    "mus_1980s = merged_data[merged_data['decade']==1980]\n",
    "top10songs80s = mus_1980s.sort_values(['popularity'], ascending=False)\n",
    "top10songs80s.head(5)"
   ]
  },
  {
   "cell_type": "code",
   "execution_count": null,
   "metadata": {},
   "outputs": [],
   "source": [
    "a80 = mus_1980s['artists'].value_counts().sort_values(ascending=False).head(10)\n",
    "top10artists80s = pd.DataFrame({'artists':a80.index}).merge(mus_1980s, how='left')\n",
    "top10artists80s['artists'].value_counts().nlargest(10)"
   ]
  },
  {
   "cell_type": "code",
   "execution_count": null,
   "metadata": {},
   "outputs": [],
   "source": [
    "# 1990s decade\n",
    "\n",
    "mus_1990s = merged_data[merged_data['decade']==1990]\n",
    "top10songs90s = mus_1990s.sort_values(['popularity'], ascending=False)\n",
    "top10songs90s.head(5)"
   ]
  },
  {
   "cell_type": "code",
   "execution_count": null,
   "metadata": {},
   "outputs": [],
   "source": [
    "a90 = mus_1990s['artists'].value_counts().sort_values(ascending=False).head(10)\n",
    "top10artists90s = pd.DataFrame({'artists':a90.index}).merge(mus_1990s, how='left')\n",
    "top10artists90s['artists'].value_counts().nlargest(10)"
   ]
  },
  {
   "cell_type": "code",
   "execution_count": null,
   "metadata": {},
   "outputs": [],
   "source": [
    "# 2000s decade\n",
    "\n",
    "mus_2000s = merged_data[merged_data['decade']==2000]\n",
    "top10songs00s = mus_2000s.sort_values(['popularity'], ascending=False)\n",
    "top10songs00s.head(5)"
   ]
  },
  {
   "cell_type": "code",
   "execution_count": null,
   "metadata": {},
   "outputs": [],
   "source": [
    "b00 = mus_2000s['artists'].value_counts().sort_values(ascending=False).head(10)\n",
    "top10artists00s = pd.DataFrame({'artists':b00.index}).merge(mus_2000s, how='left')\n",
    "top10artists00s['artists'].value_counts().nlargest(10)"
   ]
  },
  {
   "cell_type": "code",
   "execution_count": null,
   "metadata": {},
   "outputs": [],
   "source": [
    "# 2010s decade\n",
    "\n",
    "mus_2010s = merged_data[merged_data['decade']==2010]\n",
    "top10songs10s = mus_2010s.sort_values(['popularity'], ascending=False)\n",
    "top10songs10s.head(5)"
   ]
  },
  {
   "cell_type": "code",
   "execution_count": null,
   "metadata": {},
   "outputs": [],
   "source": [
    "b10 = mus_2010s['artists'].value_counts().sort_values(ascending=False).head(10)\n",
    "top10artists10s = pd.DataFrame({'artists':b10.index}).merge(mus_2010s, how='left')\n",
    "top10artists10s['artists'].value_counts().nlargest(10)"
   ]
  },
  {
   "cell_type": "code",
   "execution_count": null,
   "metadata": {},
   "outputs": [],
   "source": [
    "# 2020s decade\n",
    "\n",
    "mus_2020s = merged_data[merged_data['decade']==2020]\n",
    "top10songs20s = mus_2020s.sort_values(['popularity'], ascending=False)\n",
    "top10songs20s.head(5)"
   ]
  },
  {
   "cell_type": "code",
   "execution_count": null,
   "metadata": {},
   "outputs": [],
   "source": [
    "b20 = mus_2020s['artists'].value_counts().sort_values(ascending=False).head(10)\n",
    "top10artists20s = pd.DataFrame({'artists':b20.index}).merge(mus_2020s, how='left')\n",
    "top10artists20s['artists'].value_counts().nlargest(10)"
   ]
  },
  {
   "cell_type": "code",
   "execution_count": null,
   "metadata": {},
   "outputs": [],
   "source": [
    "## All Decades Data Together\n",
    "\n",
    "# all_mus = mus_1920s.append([mus_1930s, mus_1940s, mus_1950s, mus_1960s, mus_1970s, mus_1980s, mus_1990s, mus_2000s, mus_2010s, mus_2020s])\n",
    "# all_mus.to_csv('data/clean_data_decade.csv', encoding='utf-8', index=False)"
   ]
  },
  {
   "cell_type": "code",
   "execution_count": null,
   "metadata": {},
   "outputs": [],
   "source": [
    "# all_mus.shape"
   ]
  },
  {
   "cell_type": "code",
   "execution_count": null,
   "metadata": {},
   "outputs": [],
   "source": []
  }
 ],
 "metadata": {
  "kernelspec": {
   "display_name": "Python 3.8.2 64-bit",
   "language": "python",
   "name": "python38264bit6dd9b48f5e9c48faaa78ee1310cf828b"
  },
  "language_info": {
   "codemirror_mode": {
    "name": "ipython",
    "version": 3
   },
   "file_extension": ".py",
   "mimetype": "text/x-python",
   "name": "python",
   "nbconvert_exporter": "python",
   "pygments_lexer": "ipython3",
   "version": "3.8.2"
  }
 },
 "nbformat": 4,
 "nbformat_minor": 4
}
