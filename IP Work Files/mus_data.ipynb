{
 "cells": [
  {
   "cell_type": "markdown",
   "metadata": {},
   "source": [
    "### Cleaning and Processing Data"
   ]
  },
  {
   "cell_type": "code",
   "execution_count": 2,
   "metadata": {},
   "outputs": [],
   "source": [
    "# Importing required libraries\n",
    "import pandas as pd\n",
    "import os\n",
    "import datetime\n",
    "import math\n",
    "import numpy as np\n",
    "\n",
    "# Reading CSV files\n",
    "data = 'data/data.csv'\n",
    "genres = 'data/data_w_genres.csv'\n",
    "mus_data = pd.read_csv(data)\n",
    "genres_data = pd.read_csv(genres)"
   ]
  },
  {
   "cell_type": "code",
   "execution_count": 5,
   "metadata": {},
   "outputs": [],
   "source": [
    "# Cleaning genres column's str values\n",
    "genres_data['genres'] = genres_data['genres'].str.replace(r\"[\\\"\\])([']\", '')\n",
    "genres_data['artists'] = genres_data['artists'].str.replace(r\"[\\\"\\])(*[']\", '')\n",
    "genres_data['artists'] = genres_data['artists'].str.replace(r\"[$]\", 'S')"
   ]
  },
  {
   "cell_type": "code",
   "execution_count": 6,
   "metadata": {},
   "outputs": [],
   "source": [
    "# Keeping only selected columns for genres\n",
    "genres_data = genres_data[['artists', 'genres']]"
   ]
  },
  {
   "cell_type": "code",
   "execution_count": 7,
   "metadata": {},
   "outputs": [],
   "source": [
    "# Cleaning main data column's str values\n",
    "mus_data['artists'] = mus_data['artists'].str.replace(r\"[\\\"\\])(*[']\", '')\n",
    "mus_data['artists'] = mus_data['artists'].str.replace(r\"$\", 'S')"
   ]
  },
  {
   "cell_type": "code",
   "execution_count": 9,
   "metadata": {},
   "outputs": [],
   "source": [
    "# Creating decades column to sort data by 10 years intervals\n",
    "mus_data['decade'] = np.floor(mus_data['year']/10)*10"
   ]
  },
  {
   "cell_type": "code",
   "execution_count": 10,
   "metadata": {},
   "outputs": [],
   "source": [
    "# Assigning Int64 to decades column values\n",
    "mus_data = mus_data.astype({\"decade\": int})"
   ]
  },
  {
   "cell_type": "code",
   "execution_count": 11,
   "metadata": {},
   "outputs": [],
   "source": [
    "# Adding additional artist_songs column to get accurate song's counts per decades\n",
    "mus_data['artist_song'] = mus_data['artists'] + ' - ' + mus_data['name']"
   ]
  },
  {
   "cell_type": "code",
   "execution_count": 19,
   "metadata": {},
   "outputs": [],
   "source": [
    "# Merging dataframes - genres data with main data\n",
    "merged_data = mus_data.merge(genres_data, on='artists', how='left')\n",
    "# merged_data.shape"
   ]
  },
  {
   "cell_type": "code",
   "execution_count": 20,
   "metadata": {},
   "outputs": [],
   "source": [
    "# Replacing NaN values with empty values after merging\n",
    "merged_data['genres'].fillna('', inplace=True)\n",
    "# merged_data.shape"
   ]
  },
  {
   "cell_type": "code",
   "execution_count": 21,
   "metadata": {},
   "outputs": [],
   "source": [
    "# Rearranging columns order for better visibility\n",
    "merged_data = merged_data[['decade', 'year', 'artists', 'name', 'genres', 'duration_ms', 'artist_song', 'release_date', 'valence', 'acousticness', 'danceability', 'energy', 'explicit', 'instrumentalness', 'key', 'liveness', 'loudness', 'mode', 'popularity', 'speechiness', 'tempo', 'id']]"
   ]
  },
  {
   "cell_type": "code",
   "execution_count": 22,
   "metadata": {},
   "outputs": [],
   "source": [
    "# Sorting data by duration in order to drop non-music items\n",
    "merged_data = merged_data.sort_values('duration_ms',ascending=False)"
   ]
  },
  {
   "cell_type": "code",
   "execution_count": 23,
   "metadata": {},
   "outputs": [],
   "source": [
    "# Cleaning merged data, dropping audio books\n",
    "merged_data.drop(merged_data.loc[merged_data['duration_ms'] >= 1000000].index, inplace=True)\n",
    "merged_data.drop(merged_data.loc[merged_data['artists'] == 'Georgette Heyer, Irina Salkow'].index, inplace=True)\n",
    "merged_data.drop(merged_data.loc[merged_data['artists'] == 'Трумен Капоте'].index, inplace=True)\n",
    "merged_data.drop(merged_data.loc[merged_data['artists'] == 'Seweryn Goszczyński'].index, inplace=True)\n",
    "merged_data.drop(merged_data.loc[merged_data['artists'] == 'H.P. Lovecraft'].index, inplace=True)\n",
    "merged_data.drop(merged_data.loc[merged_data['artists'] == 'Эрих Мария Ремарк'].index, inplace=True)\n",
    "merged_data.drop(merged_data.loc[merged_data['artists'] == 'Эрнест Хемингуэй'].index, inplace=True)"
   ]
  },
  {
   "cell_type": "code",
   "execution_count": 24,
   "metadata": {},
   "outputs": [],
   "source": [
    "# Saving master clean data to csv file\n",
    "merged_data.to_csv('data/clean_data.csv', encoding='utf-8', index=False)"
   ]
  },
  {
   "cell_type": "markdown",
   "metadata": {},
   "source": [
    "### Dividing data into decades to find out top-20 artists and songs"
   ]
  },
  {
   "cell_type": "code",
   "execution_count": 25,
   "metadata": {},
   "outputs": [
    {
     "data": {
      "text/plain": [
       "Francisco Canaro                         686\n",
       "Ignacio Corsini                          447\n",
       "Francisco Canaro, Charlo                 241\n",
       "Frédéric Chopin, Vladimir Horowitz       160\n",
       "Louis Armstrong & His Hot Five            98\n",
       "Robert Schumann, Vladimir Horowitz        78\n",
       "Fats Waller                               61\n",
       "Louis Armstrong                           49\n",
       "Alexander Scriabin, Vladimir Horowitz     48\n",
       "Frédéric Chopin, Arthur Rubinstein        48\n",
       "George Olsen                              47\n",
       "Ted Weems & His Orchestra                 47\n",
       "Louis Armstrong & His Hot Seven           43\n",
       "Jimmie Rodgers                            41\n",
       "Leroy Carr                                40\n",
       "Francisco Canaro, Agustín Irusta          39\n",
       "Iván Rolón                                32\n",
       "Frédéric Chopin, Alfred Cortot            31\n",
       "Tommy Dorsey                              31\n",
       "Maurice Chevalier                         31\n",
       "Name: artists, dtype: int64"
      ]
     },
     "execution_count": 25,
     "metadata": {},
     "output_type": "execute_result"
    }
   ],
   "source": [
    "# 1920s decade\n",
    "\n",
    "mus_1920s = merged_data[merged_data['decade']==1920]\n",
    "mus_1920s.to_csv('data/mus_1920s.csv', encoding='utf-8', index=False)\n",
    "# mus_1920s.groupby('artists')['artist_song'].value_counts().nlargest(20).reset_index(name='count')\n",
    "mus_1920s['artists'].value_counts().nlargest(20)\n",
    "# mus_1920s.shape"
   ]
  },
  {
   "cell_type": "code",
   "execution_count": 26,
   "metadata": {},
   "outputs": [
    {
     "data": {
      "text/plain": [
       "Frédéric Chopin, Vladimir Horowitz - Ballade No. 1 in G Minor, Op. 23               8\n",
       "Frédéric Chopin, Vladimir Horowitz - Mazurka in C-Sharp Minor, Op. 30, No. 4        7\n",
       "Frédéric Chopin, Vladimir Horowitz - Barcarolle, Op. 60                             6\n",
       "Frédéric Chopin, Vladimir Horowitz - Scherzo No. 1 in B Minor, Op. 20               6\n",
       "Louis Armstrong & His Hot Seven - Potato Head Blues                                 6\n",
       "Frédéric Chopin, Vladimir Horowitz - Polonaise-Fantaisie in A-Flat Major, Op. 61    5\n",
       "Louis Armstrong & His Hot Five - Jazz Lips                                          4\n",
       "Louis Armstrong & His Hot Five - Heebie Jeebies                                     4\n",
       "Frédéric Chopin, Vladimir Horowitz - Polonaise in A-Flat Major, Op. 53 \"Heroic\"     4\n",
       "Louis Armstrong & His Hot Seven - Weary Blues                                       4\n",
       "Louis Armstrong & His Savoy Ballroom Five - Tight Like This                         4\n",
       "Frédéric Chopin, Vladimir Horowitz - Étude in C-Sharp Minor, Op. 25, No. 7          4\n",
       "Louis Armstrong & His Hot Seven - Squeeze Me                                        4\n",
       "Louis Armstrong & His Hot Five - Cornet Chop Suey                                   4\n",
       "Frédéric Chopin, Vladimir Horowitz - Ballade No. 4 in F Minor, Op. 52               4\n",
       "Frédéric Chopin, Vladimir Horowitz - Waltz in A Minor, Op. 34, No. 2                4\n",
       "Frédéric Chopin, Vladimir Horowitz - Waltz in A-Flat Major, Op. 69, No. 1           3\n",
       "Louis Armstrong & His Hot Seven - Wild Man Blues                                    3\n",
       "Louis Armstrong & His Hot Five - Skid-Dat-De-Dat                                    3\n",
       "Ignacio Corsini - Martín Fierro - Remasterizado                                     3\n",
       "Name: artist_song, dtype: int64"
      ]
     },
     "execution_count": 26,
     "metadata": {},
     "output_type": "execute_result"
    }
   ],
   "source": [
    "mus_1920s['artist_song'].value_counts().nlargest(20)"
   ]
  },
  {
   "cell_type": "code",
   "execution_count": 27,
   "metadata": {},
   "outputs": [
    {
     "data": {
      "text/plain": [
       "Billie Holiday                          220\n",
       "Francisco Canaro, Charlo                212\n",
       "Sinclair Lewis, Frank Arnold            204\n",
       "Francisco Canaro                        203\n",
       "Francisco Canaro, Ernesto Fama          194\n",
       "Billie Holiday, Teddy Wilson            191\n",
       "Francisco Canaro, Roberto Maida         180\n",
       "Ignacio Corsini                         159\n",
       "Lead Belly                              141\n",
       "Umm Kulthum                             116\n",
       "Franz Joseph Haydn, Pro Arte Quartet    113\n",
       "Ernst H. Gombrich, Christoph Waltz      109\n",
       "Count Basie                              99\n",
       "Zofia Dromlewiczowa                      96\n",
       "Carmen Miranda                           83\n",
       "Benny Goodman                            81\n",
       "Roy Fox                                  75\n",
       "Frédéric Chopin, Robert Lortat           69\n",
       "Roza Eskenazi                            66\n",
       "Robert Johnson                           64\n",
       "Name: artists, dtype: int64"
      ]
     },
     "execution_count": 27,
     "metadata": {},
     "output_type": "execute_result"
    }
   ],
   "source": [
    "# 1930s decade\n",
    "\n",
    "mus_1930s = merged_data[merged_data['decade']==1930]\n",
    "mus_1930s.to_csv('data/mus_1930s.csv', encoding='utf-8', index=False)\n",
    "# mus_1930s.groupby('artists')['artist_song'].value_counts().nlargest(20).reset_index(name='count')\n",
    "mus_1930s['artists'].value_counts().nlargest(20)\n",
    "# mus_1930s.shape"
   ]
  },
  {
   "cell_type": "code",
   "execution_count": 28,
   "metadata": {},
   "outputs": [
    {
     "data": {
      "text/plain": [
       "Count Basie - One O'Clock Jump                                                               5\n",
       "Count Basie - Oh, Lady Be Good                                                               4\n",
       "Billie Holiday, Count Basie - Swing, Brother, Swing - Live                                   4\n",
       "Count Basie - Jumpin' At The Woodside - Live                                                 4\n",
       "Count Basies Kansas City Seven - Lester Leaps In                                             4\n",
       "Billie Holiday - The Man I Love                                                              4\n",
       "Billie Holiday, Teddy Wilson - I Must Have That Man (with Teddy Wilson & His Orchestra)      4\n",
       "Benny Goodman - Let's Dance                                                                  4\n",
       "Robert Johnson - Traveling Riverside Blues                                                   3\n",
       "Fred Astaire - They All Laughed                                                              3\n",
       "Billie Holiday - Laughing at Life - Take 1                                                   3\n",
       "Billie Holiday - Me, Myself and I - Take 2                                                   3\n",
       "Lead Belly - De Kalb Blues                                                                   3\n",
       "Count Basie - Broadway                                                                       3\n",
       "Billie Holiday - Summertime                                                                  3\n",
       "Billie Holiday - He's Funny That Way - Take 1                                                3\n",
       "Robert Johnson - I Believe I'll Dust My Broom                                                3\n",
       "Billie Holiday, Teddy Wilson - I'll Never Be the Same (with Teddy Wilson & His Orchestra)    3\n",
       "Gioachino Rossini, Arturo Toscanini - Overture                                               3\n",
       "Billie Holiday - Back In Your Own Backyard - Take 1                                          3\n",
       "Name: artist_song, dtype: int64"
      ]
     },
     "execution_count": 28,
     "metadata": {},
     "output_type": "execute_result"
    }
   ],
   "source": [
    "mus_1930s['artist_song'].value_counts().nlargest(20)"
   ]
  },
  {
   "cell_type": "code",
   "execution_count": 29,
   "metadata": {},
   "outputs": [
    {
     "data": {
      "text/plain": [
       "Orchestra Studio 7                                                                                                                           238\n",
       "Lead Belly                                                                                                                                   188\n",
       "Frédéric Chopin, Arthur Rubinstein                                                                                                           151\n",
       "Igor Stravinsky, Columbia Symphony Orchestra                                                                                                 135\n",
       "Shamshad Begum                                                                                                                               118\n",
       "Giuseppe Verdi, Arturo Toscanini                                                                                                             107\n",
       "Lata Mangeshkar                                                                                                                               95\n",
       "Amirbai Karnataki                                                                                                                             94\n",
       "Mina                                                                                                                                          80\n",
       "Rita Ampatzi                                                                                                                                  78\n",
       "Francisco Canaro, Carlos Roldán                                                                                                               75\n",
       "Frédéric Chopin, William Kapell                                                                                                               73\n",
       "Johann Sebastian Bach, Claudio Arrau                                                                                                          72\n",
       "Ludwig van Beethoven, Rudolf Serkin                                                                                                           70\n",
       "Geeta Dutt                                                                                                                                    70\n",
       "Sonny Boy Williamson I                                                                                                                        69\n",
       "Dale Carnegie, Till Hagen, Stefan Kaminski                                                                                                    68\n",
       "Doris Day                                                                                                                                     67\n",
       "Claudio Villa                                                                                                                                 66\n",
       "Claude Debussy, Roger Desormière/Choeurs Yvonne Gouverné/Orchestre Symphonique de Paris, Roger Desormiere, Orchestre Symphonique De Paris     65\n",
       "Name: artists, dtype: int64"
      ]
     },
     "execution_count": 29,
     "metadata": {},
     "output_type": "execute_result"
    }
   ],
   "source": [
    "# 1940s decade\n",
    "\n",
    "mus_1940s = merged_data[merged_data['decade']==1940]\n",
    "mus_1940s.to_csv('data/mus_1940s.csv', encoding='utf-8', index=False)\n",
    "# mus_1940s.groupby('artists')['artist_song'].value_counts().nlargest(20).reset_index(name='count')\n",
    "mus_1940s['artists'].value_counts().nlargest(20)\n",
    "# mus_1940s.shape"
   ]
  },
  {
   "cell_type": "code",
   "execution_count": 30,
   "metadata": {},
   "outputs": [
    {
     "data": {
      "text/plain": [
       "Modest Mussorgsky, William Kapell - Pictures at an Exhibition: Promenade                                    8\n",
       "Lead Belly - John Henry                                                                                     6\n",
       "Mina - Stringimi forte i polsi                                                                              5\n",
       "Igor Stravinsky, New York Philharmonic - Ode - Elegiacal Chant in 3 Parts for Orchestra: I. Eulogy          4\n",
       "Igor Stravinsky, Joseph Szigeti - Russian Maiden's Song                                                     4\n",
       "Gustav Mahler, Bruno Walter, New York Philharmonic - Symphony No. 5 in C-Sharp Minor: V. Rondo-Finale       4\n",
       "Johann Sebastian Bach, Claudio Arrau - Goldberg Variations, BWV 988: Aria                                   4\n",
       "Igor Stravinsky, Woody Herman Orchestra - Ebony Concerto: III. Moderato - Con moto - Moderato - Vivo        4\n",
       "Igor Stravinsky, New York Philharmonic - Ode - Elegiacal Chant in 3 Parts for Orchestra: II. Eclogue        4\n",
       "Gustav Mahler, Bruno Walter, New York Philharmonic - Symphony No. 5 in C-Sharp Minor: I. Trauermarsch       4\n",
       "Igor Stravinsky, Woody Herman Orchestra - Ebony Concerto: II. Andante                                       4\n",
       "Igor Stravinsky, New York Philharmonic - Circus Polka                                                       4\n",
       "Igor Stravinsky, New York Philharmonic - Four Norwegian Moods: IV. Cortège                                  4\n",
       "Lead Belly - Rock Island Line                                                                               4\n",
       "Wolfgang Amadeus Mozart, William Kapell - Adagio II                                                         4\n",
       "Igor Stravinsky, Woody Herman Orchestra - Ebony Concerto: I. Allegro moderato                               4\n",
       "Lead Belly - Good Morning Blues                                                                             4\n",
       "Carlo Buti - Luna marinara                                                                                  3\n",
       "Doris Day - Secret Love                                                                                     3\n",
       "Giacomo Puccini, Kiri Te Kanawa, Sir John Pritchard, London Philharmonic Orchestra - Tosca: Vissi d'arte    3\n",
       "Name: artist_song, dtype: int64"
      ]
     },
     "execution_count": 30,
     "metadata": {},
     "output_type": "execute_result"
    }
   ],
   "source": [
    "mus_1940s['artist_song'].value_counts().nlargest(20)"
   ]
  },
  {
   "cell_type": "code",
   "execution_count": 32,
   "metadata": {},
   "outputs": [
    {
     "data": {
      "text/plain": [
       "Ella Fitzgerald                       268\n",
       "Miles Davis                           260\n",
       "Dean Martin                           253\n",
       "Oscar Peterson                        205\n",
       "Lata Mangeshkar                       202\n",
       "Unspecified                           194\n",
       "Frank Sinatra                         181\n",
       "Johann Sebastian Bach, Glenn Gould    179\n",
       "Billie Holiday                        167\n",
       "Javier Solís                          136\n",
       "Thelonious Monk                       133\n",
       "Johnny Cash                           123\n",
       "Duke Ellington                        115\n",
       "Elvis Presley                         109\n",
       "Nat King Cole                         107\n",
       "Sarah Vaughan                         107\n",
       "Jackie Gleason                        106\n",
       "Chet Baker                            103\n",
       "Charlie Parker                         98\n",
       "Lefty Frizzell                         93\n",
       "Name: artists, dtype: int64"
      ]
     },
     "execution_count": 32,
     "metadata": {},
     "output_type": "execute_result"
    }
   ],
   "source": [
    "# 1950s decade\n",
    "\n",
    "mus_1950s = merged_data[merged_data['decade']==1950]\n",
    "mus_1950s.to_csv('data/mus_1940s.csv', encoding='utf-8', index=False)\n",
    "# mus_1950s.groupby('artists')['artist_song'].value_counts().nlargest(20).reset_index(name='count')\n",
    "mus_1950s['artists'].value_counts().nlargest(20)\n",
    "# mus_1950s.shape"
   ]
  },
  {
   "cell_type": "code",
   "execution_count": 33,
   "metadata": {},
   "outputs": [
    {
     "data": {
      "text/plain": [
       "Miles Davis - Two Bass Hit                                        5\n",
       "Miles Davis - 'Round Midnight                                     5\n",
       "Thelonious Monk - Ruby, My Dear                                   4\n",
       "Miles Davis - So What                                             4\n",
       "Oscar Peterson - Blue Moon                                        4\n",
       "Marty Robbins - El Paso                                           4\n",
       "Thelonious Monk - Reflections                                     4\n",
       "Giuseppe Verdi, Arturo Toscanini - Overture                       4\n",
       "Otis Rush - I Can't Quit You Baby                                 4\n",
       "Charles Mingus - Pussy Cat Dues                                   3\n",
       "Miles Davis Quintet - I Could Write A Book                        3\n",
       "Miles Davis Quintet - Oleo - Edited Without False Start           3\n",
       "Javier Solís - Esclavo y Amo                                      3\n",
       "Gerry Mulligan, Paul Desmond Quartet - Blues In Time              3\n",
       "Miles Davis Quintet - Tune Up/When Lights Are Low                 3\n",
       "Doris Day - Just One of Those Things                              3\n",
       "Miles Davis Quintet - It Could Happen To You                      3\n",
       "Miles Davis - Fran-Dance                                          3\n",
       "Miles Davis Quintet - Blues By Five - Rudy Van Gelder Remaster    3\n",
       "Charles Mingus - Bird Calls                                       3\n",
       "Name: artist_song, dtype: int64"
      ]
     },
     "execution_count": 33,
     "metadata": {},
     "output_type": "execute_result"
    }
   ],
   "source": [
    "mus_1950s['artist_song'].value_counts().nlargest(20)"
   ]
  },
  {
   "cell_type": "code",
   "execution_count": 34,
   "metadata": {},
   "outputs": [
    {
     "data": {
      "text/plain": [
       "The Beach Boys        392\n",
       "Frank Sinatra         320\n",
       "The Beatles           275\n",
       "Bob Dylan             266\n",
       "Johnny Cash           246\n",
       "Elvis Presley         239\n",
       "The Rolling Stones    236\n",
       "Sam Cooke             173\n",
       "Nina Simone           169\n",
       "The Kinks             157\n",
       "Dean Martin           157\n",
       "John Coltrane         144\n",
       "Bill Evans Trio       141\n",
       "The Who               128\n",
       "Otis Redding          124\n",
       "The Byrds             111\n",
       "The Moody Blues       101\n",
       "The Monkees            98\n",
       "Aretha Franklin        97\n",
       "Miles Davis            92\n",
       "Name: artists, dtype: int64"
      ]
     },
     "execution_count": 34,
     "metadata": {},
     "output_type": "execute_result"
    }
   ],
   "source": [
    "# 1960s decade\n",
    "\n",
    "mus_1960s = merged_data[merged_data['decade']==1960]\n",
    "mus_1960s.to_csv('data/mus_1960s.csv', encoding='utf-8', index=False)\n",
    "# mus_1960s.groupby('artists')['artist_song'].value_counts().nlargest(20).reset_index(name='count')\n",
    "mus_1960s['artists'].value_counts().nlargest(20)\n",
    "# mus_1960s.shape"
   ]
  },
  {
   "cell_type": "code",
   "execution_count": 35,
   "metadata": {},
   "outputs": [
    {
     "data": {
      "text/plain": [
       "John Coltrane - A Love Supreme, Pt. III - Pursuance                           4\n",
       "Johnny Cash - Hey Porter                                                      4\n",
       "Sam Cooke - (Ain't That) Good News                                            4\n",
       "Tammy Wynette - D-I-V-O-R-C-E                                                 4\n",
       "John Coltrane - A Love Supreme, Pt. II - Resolution                           4\n",
       "John Coltrane - A Love Supreme, Pt. I – Acknowledgement                       4\n",
       "Santana - Soul Sacrifice                                                      3\n",
       "The Byrds - My Back Pages                                                     3\n",
       "The Animals - I'm Crying                                                      3\n",
       "Bill Evans Trio - All Of You - Live At The Village Vanguard, 1961 / Take 2    3\n",
       "Johnny Cash - Give My Love to Rose                                            3\n",
       "Mongo Santamaria - Watermelon Man                                             3\n",
       "The Animals - Don't Let Me Be Misunderstood                                   3\n",
       "Sam Cooke - Tennessee Waltz                                                   3\n",
       "Bill Evans Trio - Israel                                                      3\n",
       "The Beach Boys - God Only Knows - Remastered                                  3\n",
       "The Beach Boys - Here Today - Remastered                                      3\n",
       "Patsy Cline - She's Got You - Single Version                                  3\n",
       "Bill Evans Trio - Elsa                                                        3\n",
       "The Animals - House Of The Rising Sun                                         3\n",
       "Name: artist_song, dtype: int64"
      ]
     },
     "execution_count": 35,
     "metadata": {},
     "output_type": "execute_result"
    }
   ],
   "source": [
    "mus_1960s['artist_song'].value_counts().nlargest(20)"
   ]
  },
  {
   "cell_type": "code",
   "execution_count": 36,
   "metadata": {},
   "outputs": [
    {
     "data": {
      "text/plain": [
       "Fleetwood Mac               252\n",
       "Queen                       236\n",
       "Led Zeppelin                204\n",
       "The Rolling Stones          195\n",
       "Elton John                  188\n",
       "Bob Marley & The Wailers    182\n",
       "Bob Dylan                   173\n",
       "Marvin Gaye                 142\n",
       "Willie Nelson               132\n",
       "Elvis Presley               124\n",
       "KISS                        121\n",
       "David Bowie                 114\n",
       "Wings                       113\n",
       "Waylon Jennings             112\n",
       "The Who                     112\n",
       "Ramones                     106\n",
       "Vicente Fernández           103\n",
       "Van Morrison                101\n",
       "Stevie Wonder               101\n",
       "Genesis                      99\n",
       "Name: artists, dtype: int64"
      ]
     },
     "execution_count": 36,
     "metadata": {},
     "output_type": "execute_result"
    }
   ],
   "source": [
    "# 1970s decade\n",
    "\n",
    "mus_1970s = merged_data[merged_data['decade']==1970]\n",
    "mus_1970s.to_csv('data/mus_1970s.csv', encoding='utf-8', index=False)\n",
    "# mus_1970s.groupby('artists')['artist_song'].value_counts().nlargest(20).reset_index(name='count')\n",
    "mus_1970s['artists'].value_counts().nlargest(20)\n",
    "# mus_1970s.shape"
   ]
  },
  {
   "cell_type": "code",
   "execution_count": 37,
   "metadata": {},
   "outputs": [
    {
     "data": {
      "text/plain": [
       "The Rolling Stones - Bitch - 2009 Mix                                                              4\n",
       "The Rolling Stones - Brown Sugar - 2009 Mix                                                        4\n",
       "Eagles - Wasted Time - 2013 Remaster                                                               4\n",
       "The Charlie Daniels Band - The Devil Went Down to Georgia                                          4\n",
       "Charlie Rich - Behind Closed Doors                                                                 4\n",
       "The Rolling Stones - Can't You Hear Me Knocking - 2009 Mix                                         4\n",
       "The Rolling Stones - Wild Horses - 2009 Mix                                                        4\n",
       "The Rolling Stones - Dead Flowers - 2009 Mix                                                       4\n",
       "The Velvet Underground - Rock and Roll - Full Length Version; 2015 Remaster                        3\n",
       "Queen - Seven Seas Of Rhye - Remastered 2011                                                       3\n",
       "Yusuf / Cat Stevens - Peace Train                                                                  3\n",
       "David Allan Coe - Longhaired Redneck                                                               3\n",
       "Barry White - Can't Get Enough Of Your Love, Babe                                                  3\n",
       "Harold Melvin & The Blue Notes, Teddy Pendergrass - Wake Up Everybody (feat. Teddy Pendergrass)    3\n",
       "The Rolling Stones - Sister Morphine - 2009 Mix                                                    3\n",
       "Elton John - Bennie And The Jets - Remastered 2014                                                 3\n",
       "Tom Petty and the Heartbreakers - You Tell Me                                                      3\n",
       "Tom Petty and the Heartbreakers - Refugee                                                          3\n",
       "Curtis Mayfield - Give Me Your Love (Love Song)                                                    3\n",
       "Harold Melvin & The Blue Notes, Teddy Pendergrass - The Love I Lost (feat. Teddy Pendergrass)      3\n",
       "Name: artist_song, dtype: int64"
      ]
     },
     "execution_count": 37,
     "metadata": {},
     "output_type": "execute_result"
    }
   ],
   "source": [
    "mus_1970s['artist_song'].value_counts().nlargest(20)"
   ]
  },
  {
   "cell_type": "code",
   "execution_count": 38,
   "metadata": {},
   "outputs": [
    {
     "data": {
      "text/plain": [
       "U2                    155\n",
       "The Cure              131\n",
       "Queen                 126\n",
       "Metallica             123\n",
       "The Smiths            117\n",
       "Talking Heads         111\n",
       "R.E.M.                105\n",
       "Bruce Springsteen     100\n",
       "Depeche Mode           98\n",
       "Prince                 89\n",
       "Billy Joel             83\n",
       "Fleetwood Mac          82\n",
       "George Strait          82\n",
       "Journey                81\n",
       "Def Leppard            80\n",
       "Alabama                80\n",
       "Stevie Ray Vaughan     78\n",
       "Iron Maiden            77\n",
       "Rush                   72\n",
       "Mötley Crüe            71\n",
       "Name: artists, dtype: int64"
      ]
     },
     "execution_count": 38,
     "metadata": {},
     "output_type": "execute_result"
    }
   ],
   "source": [
    "# 1980s decade\n",
    "\n",
    "mus_1980s = merged_data[merged_data['decade']==1980]\n",
    "mus_1980s.to_csv('data/mus_1980s.csv', encoding='utf-8', index=False)\n",
    "# mus_1980s.groupby('artists')['artist_song'].value_counts().nlargest(20).reset_index(name='count')\n",
    "mus_1980s['artists'].value_counts().nlargest(20)\n",
    "# mus_1980s.shape"
   ]
  },
  {
   "cell_type": "code",
   "execution_count": 39,
   "metadata": {},
   "outputs": [
    {
     "data": {
      "text/plain": [
       "Rod Stewart - Young Turks                              4\n",
       "Guns N Roses - You're Crazy                            4\n",
       "Tears For Fears - Everybody Wants To Rule The World    4\n",
       "Tears For Fears - Shout                                4\n",
       "Steely Dan - FM                                        3\n",
       "Steely Dan - Babylon Sisters                           3\n",
       "Cyndi Lauper - Girls Just Want to Have Fun             3\n",
       "Whodini - One Love                                     3\n",
       "Faith No More - We Care a Lot                          3\n",
       "R.E.M. - Radio Free Europe                             3\n",
       "Wham! - Wham Rap! (Enjoy What You Do?)                 3\n",
       "Echo & the Bunnymen - The Killing Moon                 3\n",
       "Julio Iglesias - Hey                                   3\n",
       "Foreigner - Urgent                                     3\n",
       "New Order - Bizarre Love Triangle                      3\n",
       "Ricky Van Shelton - Life Turned Her That Way           3\n",
       "Tears For Fears - Head Over Heels / Broken             3\n",
       "Gloria Estefan - Don't Wanna Lose You                  3\n",
       "U2 - Where The Streets Have No Name - Remastered       3\n",
       "Ricky Van Shelton - Somebody Lied                      3\n",
       "Name: artist_song, dtype: int64"
      ]
     },
     "execution_count": 39,
     "metadata": {},
     "output_type": "execute_result"
    }
   ],
   "source": [
    "mus_1980s['artist_song'].value_counts().nlargest(20)"
   ]
  },
  {
   "cell_type": "code",
   "execution_count": 40,
   "metadata": {},
   "outputs": [
    {
     "data": {
      "text/plain": [
       "Nirvana                     119\n",
       "Sublime                     104\n",
       "Joan Sebastian               90\n",
       "Metallica                    89\n",
       "Green Day                    80\n",
       "2Pac                         79\n",
       "Red Hot Chili Peppers        75\n",
       "The Smashing Pumpkins        68\n",
       "Alice In Chains              67\n",
       "Los Tigres Del Norte         67\n",
       "Mariah Carey                 66\n",
       "Pearl Jam                    65\n",
       "Luis Miguel                  65\n",
       "A Tribe Called Quest         64\n",
       "Los Temerarios               63\n",
       "The Notorious B.I.G.         62\n",
       "Rage Against The Machine     60\n",
       "Nine Inch Nails              59\n",
       "Korn                         54\n",
       "Antonio Aguilar              54\n",
       "Name: artists, dtype: int64"
      ]
     },
     "execution_count": 40,
     "metadata": {},
     "output_type": "execute_result"
    }
   ],
   "source": [
    "# 1990s decade\n",
    "\n",
    "mus_1990s = merged_data[merged_data['decade']==1990]\n",
    "mus_1990s.to_csv('data/mus_1990s.csv', encoding='utf-8', index=False)\n",
    "# mus_1990s.groupby('artists')['artist_song'].value_counts().nlargest(20).reset_index(name='count')\n",
    "mus_1990s['artists'].value_counts().nlargest(20)\n",
    "# mus_1990s.shape"
   ]
  },
  {
   "cell_type": "code",
   "execution_count": 41,
   "metadata": {},
   "outputs": [
    {
     "data": {
      "text/plain": [
       "Nirvana - Something In The Way                         5\n",
       "Nirvana - Come As You Are                              5\n",
       "Nirvana - Lithium                                      5\n",
       "Nirvana - Polly                                        5\n",
       "LL Cool J - Mama Said Knock You Out                    4\n",
       "Nirvana - Smells Like Teen Spirit                      4\n",
       "Nirvana - Dumb                                         4\n",
       "Nirvana - Breed                                        4\n",
       "Nirvana - On A Plain                                   4\n",
       "Nirvana - All Apologies                                4\n",
       "Nirvana - In Bloom - Nevermind Version                 4\n",
       "Nirvana - Territorial Pissings                         4\n",
       "Nirvana - Drain You                                    4\n",
       "Nirvana - Tourette's                                   3\n",
       "Alan Jackson - Livin' On Love                          3\n",
       "Cake - The Distance                                    3\n",
       "The Notorious B.I.G. - Who Shot Ya? - 2005 Remaster    3\n",
       "Crash Test Dummies - Mmm Mmm Mmm Mmm                   3\n",
       "Lorrie Morgan - Watch Me                               3\n",
       "Diamond Rio - Meet In the Middle                       3\n",
       "Name: artist_song, dtype: int64"
      ]
     },
     "execution_count": 41,
     "metadata": {},
     "output_type": "execute_result"
    }
   ],
   "source": [
    "mus_1990s['artist_song'].value_counts().nlargest(20)"
   ]
  },
  {
   "cell_type": "code",
   "execution_count": 42,
   "metadata": {},
   "outputs": [
    {
     "data": {
      "text/plain": [
       "Eminem                   96\n",
       "Linkin Park              72\n",
       "John Mayer               70\n",
       "George Strait            67\n",
       "Slipknot                 66\n",
       "Red Hot Chili Peppers    63\n",
       "John Williams            62\n",
       "Fall Out Boy             62\n",
       "Jack Johnson             59\n",
       "System Of A Down         57\n",
       "Taylor Swift             57\n",
       "Coldplay                 52\n",
       "Kenny Chesney            52\n",
       "50 Cent                  51\n",
       "Radiohead                51\n",
       "JAY-Z                    49\n",
       "Breaking Benjamin        49\n",
       "Disturbed                48\n",
       "Jay Chou                 48\n",
       "Green Day                46\n",
       "Name: artists, dtype: int64"
      ]
     },
     "execution_count": 42,
     "metadata": {},
     "output_type": "execute_result"
    }
   ],
   "source": [
    "# 2000s decade\n",
    "\n",
    "mus_2000s = merged_data[merged_data['decade']==2000]\n",
    "mus_2000s.to_csv('data/mus_2000s.csv', encoding='utf-8', index=False)\n",
    "# mus_2000s.groupby('artists')['artist_song'].value_counts().nlargest(20).reset_index(name='count')\n",
    "mus_2000s['artists'].value_counts().nlargest(20)\n",
    "# mus_2000s.shape"
   ]
  },
  {
   "cell_type": "code",
   "execution_count": 43,
   "metadata": {},
   "outputs": [
    {
     "data": {
      "text/plain": [
       "Eminem - The Real Slim Shady                      5\n",
       "Akon - Lonely                                     5\n",
       "Akon - Locked Up                                  4\n",
       "Eminem - Mockingbird                              4\n",
       "Eminem - Without Me                               4\n",
       "Wu-Tang Clan - Gravel Pit                         4\n",
       "Ice Cube - It Was A Good Day                      3\n",
       "Papa Roach - Getting Away With Murder             3\n",
       "Plain White Ts - Hey There Delilah                3\n",
       "Toby Keith, Willie Nelson - Beer For My Horses    3\n",
       "Eminem - Like Toy Soldiers                        3\n",
       "Sia - Breathe Me                                  3\n",
       "Valentín Elizalde - A Mis Enemigos                3\n",
       "Eminem, Dr. Dre, 50 Cent - Crack A Bottle         3\n",
       "JAY-Z, Eminem - Renegade                          3\n",
       "Nickelback - Photograph                           3\n",
       "Eminem, Dido - Stan                               3\n",
       "B2K, Diddy - Bump, Bump, Bump (feat. P. Diddy)    3\n",
       "Red Hot Chili Peppers - By the Way                3\n",
       "Taylor Swift - You Belong With Me                 3\n",
       "Name: artist_song, dtype: int64"
      ]
     },
     "execution_count": 43,
     "metadata": {},
     "output_type": "execute_result"
    }
   ],
   "source": [
    "mus_2000s['artist_song'].value_counts().nlargest(20)"
   ]
  },
  {
   "cell_type": "code",
   "execution_count": 44,
   "metadata": {},
   "outputs": [
    {
     "data": {
      "text/plain": [
       "Taylor Swift        134\n",
       "Drake               109\n",
       "BTS                 108\n",
       "Mac Miller          101\n",
       "One Direction        95\n",
       "Lana Del Rey         93\n",
       "The Weeknd           77\n",
       "Ariana Grande        62\n",
       "J. Cole              57\n",
       "Kendrick Lamar       57\n",
       "Ed Sheeran           54\n",
       "NF                   52\n",
       "SuicideBoyS          49\n",
       "Imagine Dragons      48\n",
       "Lil Uzi Vert         47\n",
       "Michael Bublé        47\n",
       "Glee Cast            45\n",
       "Kevin Gates          45\n",
       "Kanye West           45\n",
       "Childish Gambino     44\n",
       "Name: artists, dtype: int64"
      ]
     },
     "execution_count": 44,
     "metadata": {},
     "output_type": "execute_result"
    }
   ],
   "source": [
    "# 2010s decade\n",
    "\n",
    "mus_2010s = merged_data[merged_data['decade']==2010]\n",
    "mus_2010s.to_csv('data/mus_2010s.csv', encoding='utf-8', index=False)\n",
    "# mus_2010s.groupby('artists')['artist_song'].value_counts().nlargest(20).reset_index(name='count')\n",
    "mus_2010s['artists'].value_counts().nlargest(20)\n",
    "# mus_2010s.shape()"
   ]
  },
  {
   "cell_type": "code",
   "execution_count": 45,
   "metadata": {},
   "outputs": [
    {
     "data": {
      "text/plain": [
       "Ellie Goulding - Lights - Single Version                  4\n",
       "Lana Del Rey - Summertime Sadness                         4\n",
       "Katy Perry - Last Friday Night (T.G.I.F.)                 4\n",
       "Lana Del Rey - Born To Die                                4\n",
       "Rihanna - Diamonds                                        4\n",
       "Lana Del Rey - Radio                                      4\n",
       "Lana Del Rey - National Anthem                            4\n",
       "Lana Del Rey - Video Games - Remastered                   4\n",
       "JAY-Z, Kanye West - Ni**as In Paris                       4\n",
       "Katy Perry - Firework                                     3\n",
       "Taylor Swift - 22                                         3\n",
       "The Weeknd - Wicked Games                                 3\n",
       "Rihanna - S&M                                             3\n",
       "Taylor Swift - We Are Never Ever Getting Back Together    3\n",
       "Taylor Swift - Blank Space                                3\n",
       "Drake - Started From the Bottom                           3\n",
       "PARTYNEXTDOOR, Drake - Come and See Me (feat. Drake)      3\n",
       "Mac Miller - Knock Knock                                  3\n",
       "Michael Bublé - Ave Maria                                 3\n",
       "Michael Bublé - Cold December Night                       3\n",
       "Name: artist_song, dtype: int64"
      ]
     },
     "execution_count": 45,
     "metadata": {},
     "output_type": "execute_result"
    }
   ],
   "source": [
    "mus_2010s['artist_song'].value_counts().nlargest(20)"
   ]
  },
  {
   "cell_type": "code",
   "execution_count": 46,
   "metadata": {},
   "outputs": [
    {
     "data": {
      "text/plain": [
       "Future, Lil Uzi Vert          75\n",
       "YoungBoy Never Broke Again    32\n",
       "J Balvin                      26\n",
       "NAV                           25\n",
       "BTS                           24\n",
       "The Kid LAROI                 23\n",
       "KAROL G                       22\n",
       "Lil Uzi Vert                  18\n",
       "Machine Gun Kelly             16\n",
       "Sam Smith                     16\n",
       "Joji                          16\n",
       "Juice WRLD                    16\n",
       "Taylor Swift                  16\n",
       "Kodak Black                   16\n",
       "The Weeknd                    15\n",
       "Chris Stapleton               15\n",
       "Halsey                        15\n",
       "Daddy Yankee                  14\n",
       "2 Chainz                      14\n",
       "Ariana Grande                 14\n",
       "Name: artists, dtype: int64"
      ]
     },
     "execution_count": 46,
     "metadata": {},
     "output_type": "execute_result"
    }
   ],
   "source": [
    "# 2020s decade\n",
    "\n",
    "mus_2020s = merged_data[merged_data['decade']==2020]\n",
    "mus_2020s.to_csv('data/mus_2020s.csv', encoding='utf-8', index=False)\n",
    "# us_2020s.groupby('artists')['artist_song'].value_counts().nlargest(20).reset_index(name='count')\n",
    "mus_2020s['artists'].value_counts().nlargest(20)\n",
    "# mus_2020s.shape"
   ]
  },
  {
   "cell_type": "code",
   "execution_count": 47,
   "metadata": {},
   "outputs": [
    {
     "data": {
      "text/plain": [
       "KAROL G - A Ella                                  11\n",
       "KAROL G, Ozuna - Hello                             7\n",
       "Sebastian Yatra - Traicionera                      7\n",
       "Daddy Yankee - Limbo                               6\n",
       "KAROL G - Casi Nada                                5\n",
       "Future, Lil Uzi Vert - Bought A Bad Bitch          4\n",
       "Sebastian Yatra, Wisin, Nacho - Alguien Robo       4\n",
       "Lil Uzi Vert - Lullaby                             4\n",
       "J Balvin - Ay Vamos                                4\n",
       "KAROL G, Bad Bunny - Ahora Me Llama                4\n",
       "Future, Lil Uzi Vert - Drankin N Smokin            4\n",
       "Future, Lil Uzi Vert - Plastic                     4\n",
       "Future - Rockstar Chainz                           4\n",
       "Sam Smith - Diamonds                               4\n",
       "Future, Lil Uzi Vert - I Don’t Wanna Break Up      4\n",
       "Future, Lil Uzi Vert - Stripes Like Burberry       4\n",
       "Future, Lil Uzi Vert - Million Dollar Play         4\n",
       "Future, Lil Uzi Vert - She Never Been To Pluto     4\n",
       "Future, Lil Uzi Vert - Bankroll                    4\n",
       "Future, Lil Uzi Vert - Moment of Clarity           4\n",
       "Name: artist_song, dtype: int64"
      ]
     },
     "execution_count": 47,
     "metadata": {},
     "output_type": "execute_result"
    }
   ],
   "source": [
    "mus_2020s['artist_song'].value_counts().nlargest(20)"
   ]
  },
  {
   "cell_type": "code",
   "execution_count": null,
   "metadata": {},
   "outputs": [],
   "source": []
  }
 ],
 "metadata": {
  "kernelspec": {
   "display_name": "Python 3.8.2 64-bit",
   "language": "python",
   "name": "python38264bit6dd9b48f5e9c48faaa78ee1310cf828b"
  },
  "language_info": {
   "codemirror_mode": {
    "name": "ipython",
    "version": 3
   },
   "file_extension": ".py",
   "mimetype": "text/x-python",
   "name": "python",
   "nbconvert_exporter": "python",
   "pygments_lexer": "ipython3",
   "version": "3.8.2"
  }
 },
 "nbformat": 4,
 "nbformat_minor": 4
}
