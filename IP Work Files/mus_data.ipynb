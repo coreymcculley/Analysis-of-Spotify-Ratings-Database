{
 "cells": [
  {
   "cell_type": "markdown",
   "metadata": {},
   "source": [
    "### Cleaning and Processing Data"
   ]
  },
  {
   "cell_type": "code",
   "execution_count": 1,
   "metadata": {},
   "outputs": [],
   "source": [
    "# Importing required libraries\n",
    "import pandas as pd\n",
    "import os\n",
    "import datetime\n",
    "import math\n",
    "import numpy as np\n",
    "\n",
    "# Reading CSV files\n",
    "data = 'data/data.csv'\n",
    "genres = 'data/data_w_genres.csv'\n",
    "mus_data = pd.read_csv(data)\n",
    "genres_data = pd.read_csv(genres)"
   ]
  },
  {
   "cell_type": "code",
   "execution_count": 2,
   "metadata": {},
   "outputs": [],
   "source": [
    "# Cleaning genres column's str values\n",
    "genres_data['genres'] = genres_data['genres'].str.replace(r\"[\\\"\\])([']\", '')\n",
    "genres_data['artists'] = genres_data['artists'].str.replace(r\"[\\\"\\])(*[']\", '')\n",
    "genres_data['artists'] = genres_data['artists'].str.replace(r\"[$]\", 'S')"
   ]
  },
  {
   "cell_type": "code",
   "execution_count": 3,
   "metadata": {},
   "outputs": [],
   "source": [
    "# Keeping only selected columns for genres\n",
    "genres_data = genres_data[['artists', 'genres']]"
   ]
  },
  {
   "cell_type": "code",
   "execution_count": 4,
   "metadata": {},
   "outputs": [],
   "source": [
    "# Cleaning main data column's str values\n",
    "mus_data['artists'] = mus_data['artists'].str.replace(r\"[\\\"\\])(*[']\", '')\n",
    "mus_data['artists'] = mus_data['artists'].str.replace(r\"$\", 'S')"
   ]
  },
  {
   "cell_type": "code",
   "execution_count": 5,
   "metadata": {},
   "outputs": [],
   "source": [
    "# Creating decades column to sort data by 10 years intervals\n",
    "mus_data['decade'] = np.floor(mus_data['year']/10)*10"
   ]
  },
  {
   "cell_type": "code",
   "execution_count": 6,
   "metadata": {},
   "outputs": [],
   "source": [
    "# Assigning Int64 to decades column values\n",
    "mus_data = mus_data.astype({\"decade\": int})"
   ]
  },
  {
   "cell_type": "code",
   "execution_count": 7,
   "metadata": {},
   "outputs": [],
   "source": [
    "# Adding additional artist_songs column to get accurate song's counts per decades\n",
    "mus_data['artist_song'] = mus_data['artists'] + ' - ' + mus_data['name']"
   ]
  },
  {
   "cell_type": "code",
   "execution_count": 8,
   "metadata": {},
   "outputs": [],
   "source": [
    "# Merging dataframes - genres data with main data\n",
    "merged_data = mus_data.merge(genres_data, on='artists', how='left')\n",
    "# merged_data.shape"
   ]
  },
  {
   "cell_type": "code",
   "execution_count": 9,
   "metadata": {},
   "outputs": [],
   "source": [
    "# Replacing NaN values with empty values after merging\n",
    "merged_data['genres'].fillna('', inplace=True)\n",
    "# merged_data.shape"
   ]
  },
  {
   "cell_type": "code",
   "execution_count": 10,
   "metadata": {},
   "outputs": [],
   "source": [
    "# Rearranging columns order for better visibility\n",
    "merged_data = merged_data[['decade', 'year', 'artists', 'name', 'genres', 'duration_ms', 'artist_song', 'release_date', 'valence', 'acousticness', 'danceability', 'energy', 'explicit', 'instrumentalness', 'key', 'liveness', 'loudness', 'mode', 'popularity', 'speechiness', 'tempo', 'id']]"
   ]
  },
  {
   "cell_type": "code",
   "execution_count": 11,
   "metadata": {},
   "outputs": [],
   "source": [
    "# Sorting data by duration in order to drop non-music items\n",
    "merged_data = merged_data.sort_values('duration_ms',ascending=False)"
   ]
  },
  {
   "cell_type": "code",
   "execution_count": 12,
   "metadata": {},
   "outputs": [],
   "source": [
    "# Cleaning merged data, dropping audio books\n",
    "merged_data.drop(merged_data.loc[merged_data['duration_ms'] >= 1000000].index, inplace=True)\n",
    "merged_data.drop(merged_data.loc[merged_data['artists'] == 'Georgette Heyer, Irina Salkow'].index, inplace=True)\n",
    "merged_data.drop(merged_data.loc[merged_data['artists'] == 'Трумен Капоте'].index, inplace=True)\n",
    "merged_data.drop(merged_data.loc[merged_data['artists'] == 'Seweryn Goszczyński'].index, inplace=True)\n",
    "merged_data.drop(merged_data.loc[merged_data['artists'] == 'H.P. Lovecraft'].index, inplace=True)\n",
    "merged_data.drop(merged_data.loc[merged_data['artists'] == 'Эрих Мария Ремарк'].index, inplace=True)\n",
    "merged_data.drop(merged_data.loc[merged_data['artists'] == 'Эрнест Хемингуэй'].index, inplace=True)"
   ]
  },
  {
   "cell_type": "code",
   "execution_count": 13,
   "metadata": {},
   "outputs": [],
   "source": [
    "merged_data['release_date'] = pd.to_datetime(merged_data['release_date'], errors='coerce')\n",
    "merged_data['release_date'] = pd.DatetimeIndex(merged_data['release_date']).year"
   ]
  },
  {
   "cell_type": "code",
   "execution_count": 14,
   "metadata": {},
   "outputs": [],
   "source": [
    "# Saving master clean data to csv file\n",
    "merged_data.to_csv('data/clean_data_all.csv', encoding='utf-8', index=False)\n",
    "# merged_data.head()"
   ]
  },
  {
   "cell_type": "markdown",
   "metadata": {},
   "source": [
    "### Dividing data into decades to find out top-10 artists and songs"
   ]
  },
  {
   "cell_type": "code",
   "execution_count": 15,
   "metadata": {},
   "outputs": [
    {
     "data": {
      "text/plain": [
       "(3948, 22)"
      ]
     },
     "execution_count": 15,
     "metadata": {},
     "output_type": "execute_result"
    }
   ],
   "source": [
    "# 1920s decade\n",
    "\n",
    "mus_1920s = merged_data[merged_data['decade']==1920]\n",
    "mus_1920s.shape\n",
    "# mus_1920s['artists'].value_counts().nlargest(10)"
   ]
  },
  {
   "cell_type": "code",
   "execution_count": 16,
   "metadata": {},
   "outputs": [
    {
     "data": {
      "text/plain": [
       "(1916, 22)"
      ]
     },
     "execution_count": 16,
     "metadata": {},
     "output_type": "execute_result"
    }
   ],
   "source": [
    "a20 = mus_1920s['artists'].value_counts().sort_values(ascending=False).head(10)\n",
    "mus_1920s = pd.DataFrame({'artists':a20.index}).merge(mus_1920s, how='left')\n",
    "# mus_1920s.to_csv('static/data/mus_1920s.csv', encoding='utf-8', index=False)\n",
    "mus_1920s.shape"
   ]
  },
  {
   "cell_type": "code",
   "execution_count": 17,
   "metadata": {},
   "outputs": [
    {
     "data": {
      "text/plain": [
       "Francisco Canaro                         686\n",
       "Ignacio Corsini                          447\n",
       "Francisco Canaro, Charlo                 241\n",
       "Frédéric Chopin, Vladimir Horowitz       160\n",
       "Louis Armstrong & His Hot Five            98\n",
       "Robert Schumann, Vladimir Horowitz        78\n",
       "Fats Waller                               61\n",
       "Louis Armstrong                           49\n",
       "Frédéric Chopin, Arthur Rubinstein        48\n",
       "Alexander Scriabin, Vladimir Horowitz     48\n",
       "Name: artists, dtype: int64"
      ]
     },
     "execution_count": 17,
     "metadata": {},
     "output_type": "execute_result"
    }
   ],
   "source": [
    "mus_1920s['artists'].value_counts().nlargest(10)"
   ]
  },
  {
   "cell_type": "code",
   "execution_count": 18,
   "metadata": {},
   "outputs": [],
   "source": [
    "# top10_artist20s = mus_1920s[['artists', 'decade']].copy()\n",
    "# top10_artist20s['songs_released'] = top10_artist20s.groupby(['artists'])['artists'].transform('count')\n",
    "# top10_artist20s = top10_artist20s.drop_duplicates(subset=['artists'], keep='first')\n",
    "# top10_artist20s.reset_index(drop=True, inplace=True)\n",
    "# top10_artist20s.to_csv('static/data/top10_artist20s.csv', encoding='utf-8', index=False)\n",
    "# top10_artist20s.head(15)"
   ]
  },
  {
   "cell_type": "code",
   "execution_count": 19,
   "metadata": {},
   "outputs": [
    {
     "data": {
      "text/plain": [
       "(8745, 22)"
      ]
     },
     "execution_count": 19,
     "metadata": {},
     "output_type": "execute_result"
    }
   ],
   "source": [
    "# 1930s decade\n",
    "\n",
    "mus_1930s = merged_data[merged_data['decade']==1930]\n",
    "mus_1930s.shape"
   ]
  },
  {
   "cell_type": "code",
   "execution_count": 20,
   "metadata": {},
   "outputs": [
    {
     "data": {
      "text/plain": [
       "(1820, 22)"
      ]
     },
     "execution_count": 20,
     "metadata": {},
     "output_type": "execute_result"
    }
   ],
   "source": [
    "a30 = mus_1930s['artists'].value_counts().sort_values(ascending=False).head(10)\n",
    "mus_1930s = pd.DataFrame({'artists':a30.index}).merge(mus_1930s, how='left')\n",
    "# mus_1930s.to_csv('static/data/mus_1930s.csv', encoding='utf-8', index=False)\n",
    "mus_1930s.shape"
   ]
  },
  {
   "cell_type": "code",
   "execution_count": 21,
   "metadata": {},
   "outputs": [
    {
     "data": {
      "text/plain": [
       "Billie Holiday                     220\n",
       "Francisco Canaro, Charlo           212\n",
       "Sinclair Lewis, Frank Arnold       204\n",
       "Francisco Canaro                   203\n",
       "Francisco Canaro, Ernesto Fama     194\n",
       "Billie Holiday, Teddy Wilson       191\n",
       "Francisco Canaro, Roberto Maida    180\n",
       "Ignacio Corsini                    159\n",
       "Lead Belly                         141\n",
       "Umm Kulthum                        116\n",
       "Name: artists, dtype: int64"
      ]
     },
     "execution_count": 21,
     "metadata": {},
     "output_type": "execute_result"
    }
   ],
   "source": [
    "mus_1930s['artists'].value_counts().nlargest(10)"
   ]
  },
  {
   "cell_type": "code",
   "execution_count": 22,
   "metadata": {},
   "outputs": [
    {
     "data": {
      "text/plain": [
       "(14183, 22)"
      ]
     },
     "execution_count": 22,
     "metadata": {},
     "output_type": "execute_result"
    }
   ],
   "source": [
    "# 1940s decade\n",
    "\n",
    "mus_1940s = merged_data[merged_data['decade']==1940]\n",
    "mus_1940s.shape"
   ]
  },
  {
   "cell_type": "code",
   "execution_count": 23,
   "metadata": {},
   "outputs": [
    {
     "data": {
      "text/plain": [
       "(1284, 22)"
      ]
     },
     "execution_count": 23,
     "metadata": {},
     "output_type": "execute_result"
    }
   ],
   "source": [
    "a40 = mus_1940s['artists'].value_counts().sort_values(ascending=False).head(10)\n",
    "mus_1940s = pd.DataFrame({'artists':a40.index}).merge(mus_1940s, how='left')\n",
    "# mus_1940s.to_csv('static/data/mus_1940s.csv', encoding='utf-8', index=False)\n",
    "mus_1940s.shape"
   ]
  },
  {
   "cell_type": "code",
   "execution_count": 24,
   "metadata": {},
   "outputs": [
    {
     "data": {
      "text/plain": [
       "Orchestra Studio 7                              238\n",
       "Lead Belly                                      188\n",
       "Frédéric Chopin, Arthur Rubinstein              151\n",
       "Igor Stravinsky, Columbia Symphony Orchestra    135\n",
       "Shamshad Begum                                  118\n",
       "Giuseppe Verdi, Arturo Toscanini                107\n",
       "Lata Mangeshkar                                  95\n",
       "Amirbai Karnataki                                94\n",
       "Mina                                             80\n",
       "Rita Ampatzi                                     78\n",
       "Name: artists, dtype: int64"
      ]
     },
     "execution_count": 24,
     "metadata": {},
     "output_type": "execute_result"
    }
   ],
   "source": [
    "mus_1940s['artists'].value_counts().nlargest(10)"
   ]
  },
  {
   "cell_type": "code",
   "execution_count": 25,
   "metadata": {},
   "outputs": [
    {
     "data": {
      "text/plain": [
       "(19626, 22)"
      ]
     },
     "execution_count": 25,
     "metadata": {},
     "output_type": "execute_result"
    }
   ],
   "source": [
    "# 1950s decade\n",
    "\n",
    "mus_1950s = merged_data[merged_data['decade']==1950]\n",
    "mus_1950s.shape"
   ]
  },
  {
   "cell_type": "code",
   "execution_count": 26,
   "metadata": {},
   "outputs": [
    {
     "data": {
      "text/plain": [
       "(2045, 22)"
      ]
     },
     "execution_count": 26,
     "metadata": {},
     "output_type": "execute_result"
    }
   ],
   "source": [
    "a50 = mus_1950s['artists'].value_counts().sort_values(ascending=False).head(10)\n",
    "mus_1950s = pd.DataFrame({'artists':a50.index}).merge(mus_1950s, how='left')\n",
    "# mus_1950s.to_csv('static/data/mus_1950s.csv', encoding='utf-8', index=False)\n",
    "mus_1950s.shape"
   ]
  },
  {
   "cell_type": "code",
   "execution_count": 27,
   "metadata": {},
   "outputs": [
    {
     "data": {
      "text/plain": [
       "Ella Fitzgerald                       268\n",
       "Miles Davis                           260\n",
       "Dean Martin                           253\n",
       "Oscar Peterson                        205\n",
       "Lata Mangeshkar                       202\n",
       "Unspecified                           194\n",
       "Frank Sinatra                         181\n",
       "Johann Sebastian Bach, Glenn Gould    179\n",
       "Billie Holiday                        167\n",
       "Javier Solís                          136\n",
       "Name: artists, dtype: int64"
      ]
     },
     "execution_count": 27,
     "metadata": {},
     "output_type": "execute_result"
    }
   ],
   "source": [
    "mus_1950s['artists'].value_counts().nlargest(10)"
   ]
  },
  {
   "cell_type": "code",
   "execution_count": 28,
   "metadata": {},
   "outputs": [
    {
     "data": {
      "text/plain": [
       "(19473, 22)"
      ]
     },
     "execution_count": 28,
     "metadata": {},
     "output_type": "execute_result"
    }
   ],
   "source": [
    "# 1960s decade\n",
    "\n",
    "mus_1960s = merged_data[merged_data['decade']==1960]\n",
    "mus_1960s.shape"
   ]
  },
  {
   "cell_type": "code",
   "execution_count": 29,
   "metadata": {},
   "outputs": [
    {
     "data": {
      "text/plain": [
       "(2473, 22)"
      ]
     },
     "execution_count": 29,
     "metadata": {},
     "output_type": "execute_result"
    }
   ],
   "source": [
    "a60 = mus_1960s['artists'].value_counts().sort_values(ascending=False).head(10)\n",
    "mus_1960s = pd.DataFrame({'artists':a60.index}).merge(mus_1960s, how='left')\n",
    "# mus_1960s.to_csv('static/data/mus_1960s.csv', encoding='utf-8', index=False)\n",
    "mus_1960s.shape"
   ]
  },
  {
   "cell_type": "code",
   "execution_count": 30,
   "metadata": {},
   "outputs": [
    {
     "data": {
      "text/plain": [
       "The Beach Boys        392\n",
       "Frank Sinatra         320\n",
       "The Beatles           275\n",
       "Bob Dylan             266\n",
       "Johnny Cash           246\n",
       "Elvis Presley         239\n",
       "The Rolling Stones    236\n",
       "Sam Cooke             173\n",
       "Nina Simone           169\n",
       "The Kinks             157\n",
       "Name: artists, dtype: int64"
      ]
     },
     "execution_count": 30,
     "metadata": {},
     "output_type": "execute_result"
    }
   ],
   "source": [
    "mus_1960s['artists'].value_counts().nlargest(10)"
   ]
  },
  {
   "cell_type": "code",
   "execution_count": 31,
   "metadata": {},
   "outputs": [
    {
     "data": {
      "text/plain": [
       "(19914, 22)"
      ]
     },
     "execution_count": 31,
     "metadata": {},
     "output_type": "execute_result"
    }
   ],
   "source": [
    "# 1970s decade\n",
    "\n",
    "mus_1970s = merged_data[merged_data['decade']==1970]\n",
    "mus_1970s.shape"
   ]
  },
  {
   "cell_type": "code",
   "execution_count": 32,
   "metadata": {},
   "outputs": [
    {
     "data": {
      "text/plain": [
       "(1828, 22)"
      ]
     },
     "execution_count": 32,
     "metadata": {},
     "output_type": "execute_result"
    }
   ],
   "source": [
    "a70 = mus_1970s['artists'].value_counts().sort_values(ascending=False).head(10)\n",
    "mus_1970s = pd.DataFrame({'artists':a70.index}).merge(mus_1970s, how='left')\n",
    "# mus_1970s.to_csv('static/data/mus_1970s.csv', encoding='utf-8', index=False)\n",
    "mus_1970s.shape"
   ]
  },
  {
   "cell_type": "code",
   "execution_count": 33,
   "metadata": {},
   "outputs": [
    {
     "data": {
      "text/plain": [
       "Fleetwood Mac               252\n",
       "Queen                       236\n",
       "Led Zeppelin                204\n",
       "The Rolling Stones          195\n",
       "Elton John                  188\n",
       "Bob Marley & The Wailers    182\n",
       "Bob Dylan                   173\n",
       "Marvin Gaye                 142\n",
       "Willie Nelson               132\n",
       "Elvis Presley               124\n",
       "Name: artists, dtype: int64"
      ]
     },
     "execution_count": 33,
     "metadata": {},
     "output_type": "execute_result"
    }
   ],
   "source": [
    "mus_1970s['artists'].value_counts().nlargest(10)"
   ]
  },
  {
   "cell_type": "code",
   "execution_count": 34,
   "metadata": {},
   "outputs": [
    {
     "data": {
      "text/plain": [
       "(19825, 22)"
      ]
     },
     "execution_count": 34,
     "metadata": {},
     "output_type": "execute_result"
    }
   ],
   "source": [
    "# 1980s decade\n",
    "\n",
    "mus_1980s = merged_data[merged_data['decade']==1980]\n",
    "mus_1980s.shape"
   ]
  },
  {
   "cell_type": "code",
   "execution_count": 35,
   "metadata": {},
   "outputs": [
    {
     "data": {
      "text/plain": [
       "(1155, 22)"
      ]
     },
     "execution_count": 35,
     "metadata": {},
     "output_type": "execute_result"
    }
   ],
   "source": [
    "a80 = mus_1980s['artists'].value_counts().sort_values(ascending=False).head(10)\n",
    "mus_1980s = pd.DataFrame({'artists':a80.index}).merge(mus_1980s, how='left')\n",
    "# mus_1980s.to_csv('static/data/mus_1980s.csv', encoding='utf-8', index=False)\n",
    "mus_1980s.shape"
   ]
  },
  {
   "cell_type": "code",
   "execution_count": 36,
   "metadata": {},
   "outputs": [
    {
     "data": {
      "text/plain": [
       "U2                   155\n",
       "The Cure             131\n",
       "Queen                126\n",
       "Metallica            123\n",
       "The Smiths           117\n",
       "Talking Heads        111\n",
       "R.E.M.               105\n",
       "Bruce Springsteen    100\n",
       "Depeche Mode          98\n",
       "Prince                89\n",
       "Name: artists, dtype: int64"
      ]
     },
     "execution_count": 36,
     "metadata": {},
     "output_type": "execute_result"
    }
   ],
   "source": [
    "mus_1980s['artists'].value_counts().nlargest(10)"
   ]
  },
  {
   "cell_type": "code",
   "execution_count": 37,
   "metadata": {},
   "outputs": [
    {
     "data": {
      "text/plain": [
       "(19889, 22)"
      ]
     },
     "execution_count": 37,
     "metadata": {},
     "output_type": "execute_result"
    }
   ],
   "source": [
    "# 1990s decade\n",
    "\n",
    "mus_1990s = merged_data[merged_data['decade']==1990]\n",
    "mus_1990s.shape"
   ]
  },
  {
   "cell_type": "code",
   "execution_count": 38,
   "metadata": {},
   "outputs": [
    {
     "data": {
      "text/plain": [
       "(838, 22)"
      ]
     },
     "execution_count": 38,
     "metadata": {},
     "output_type": "execute_result"
    }
   ],
   "source": [
    "a90 = mus_1990s['artists'].value_counts().sort_values(ascending=False).head(10)\n",
    "mus_1990s = pd.DataFrame({'artists':a90.index}).merge(mus_1990s, how='left')\n",
    "# mus_1990s.to_csv('static/data/mus_1990s.csv', encoding='utf-8', index=False)\n",
    "mus_1990s.shape"
   ]
  },
  {
   "cell_type": "code",
   "execution_count": 39,
   "metadata": {},
   "outputs": [
    {
     "data": {
      "text/plain": [
       "Nirvana                  119\n",
       "Sublime                  104\n",
       "Joan Sebastian            90\n",
       "Metallica                 89\n",
       "Green Day                 80\n",
       "2Pac                      79\n",
       "Red Hot Chili Peppers     75\n",
       "The Smashing Pumpkins     68\n",
       "Los Tigres Del Norte      67\n",
       "Alice In Chains           67\n",
       "Name: artists, dtype: int64"
      ]
     },
     "execution_count": 39,
     "metadata": {},
     "output_type": "execute_result"
    }
   ],
   "source": [
    "mus_1990s['artists'].value_counts().nlargest(10)"
   ]
  },
  {
   "cell_type": "code",
   "execution_count": 40,
   "metadata": {},
   "outputs": [
    {
     "data": {
      "text/plain": [
       "(19632, 22)"
      ]
     },
     "execution_count": 40,
     "metadata": {},
     "output_type": "execute_result"
    }
   ],
   "source": [
    "# 2000s decade\n",
    "\n",
    "mus_2000s = merged_data[merged_data['decade']==2000]\n",
    "mus_2000s.shape"
   ]
  },
  {
   "cell_type": "code",
   "execution_count": 41,
   "metadata": {},
   "outputs": [
    {
     "data": {
      "text/plain": [
       "(674, 22)"
      ]
     },
     "execution_count": 41,
     "metadata": {},
     "output_type": "execute_result"
    }
   ],
   "source": [
    "b00 = mus_2000s['artists'].value_counts().sort_values(ascending=False).head(10)\n",
    "mus_2000s = pd.DataFrame({'artists':b00.index}).merge(mus_2000s, how='left')\n",
    "# mus_2000s.to_csv('static/data/mus_2000s.csv', encoding='utf-8', index=False)\n",
    "mus_2000s.shape"
   ]
  },
  {
   "cell_type": "code",
   "execution_count": 42,
   "metadata": {},
   "outputs": [
    {
     "data": {
      "text/plain": [
       "Eminem                   96\n",
       "Linkin Park              72\n",
       "John Mayer               70\n",
       "George Strait            67\n",
       "Slipknot                 66\n",
       "Red Hot Chili Peppers    63\n",
       "Fall Out Boy             62\n",
       "John Williams            62\n",
       "Jack Johnson             59\n",
       "Taylor Swift             57\n",
       "Name: artists, dtype: int64"
      ]
     },
     "execution_count": 42,
     "metadata": {},
     "output_type": "execute_result"
    }
   ],
   "source": [
    "mus_2000s['artists'].value_counts().nlargest(10)"
   ]
  },
  {
   "cell_type": "code",
   "execution_count": 43,
   "metadata": {},
   "outputs": [
    {
     "data": {
      "text/plain": [
       "(19765, 22)"
      ]
     },
     "execution_count": 43,
     "metadata": {},
     "output_type": "execute_result"
    }
   ],
   "source": [
    "# 2010s decade\n",
    "\n",
    "mus_2010s = merged_data[merged_data['decade']==2010]\n",
    "mus_2010s.shape"
   ]
  },
  {
   "cell_type": "code",
   "execution_count": 44,
   "metadata": {},
   "outputs": [
    {
     "data": {
      "text/plain": [
       "(893, 22)"
      ]
     },
     "execution_count": 44,
     "metadata": {},
     "output_type": "execute_result"
    }
   ],
   "source": [
    "b10 = mus_2010s['artists'].value_counts().sort_values(ascending=False).head(10)\n",
    "mus_2010s = pd.DataFrame({'artists':b10.index}).merge(mus_2010s, how='left')\n",
    "# mus_2010s.to_csv('static/data/mus_2010s.csv', encoding='utf-8', index=False)\n",
    "mus_2010s.shape"
   ]
  },
  {
   "cell_type": "code",
   "execution_count": 45,
   "metadata": {},
   "outputs": [
    {
     "data": {
      "text/plain": [
       "Taylor Swift      134\n",
       "Drake             109\n",
       "BTS               108\n",
       "Mac Miller        101\n",
       "One Direction      95\n",
       "Lana Del Rey       93\n",
       "The Weeknd         77\n",
       "Ariana Grande      62\n",
       "Kendrick Lamar     57\n",
       "J. Cole            57\n",
       "Name: artists, dtype: int64"
      ]
     },
     "execution_count": 45,
     "metadata": {},
     "output_type": "execute_result"
    }
   ],
   "source": [
    "mus_2010s['artists'].value_counts().nlargest(10)"
   ]
  },
  {
   "cell_type": "code",
   "execution_count": 46,
   "metadata": {},
   "outputs": [
    {
     "data": {
      "text/plain": [
       "(2030, 22)"
      ]
     },
     "execution_count": 46,
     "metadata": {},
     "output_type": "execute_result"
    }
   ],
   "source": [
    "# 2020s decade\n",
    "\n",
    "mus_2020s = merged_data[merged_data['decade']==2020]\n",
    "mus_2020s.shape"
   ]
  },
  {
   "cell_type": "code",
   "execution_count": 47,
   "metadata": {},
   "outputs": [
    {
     "data": {
      "text/plain": [
       "(277, 22)"
      ]
     },
     "execution_count": 47,
     "metadata": {},
     "output_type": "execute_result"
    }
   ],
   "source": [
    "b20 = mus_2020s['artists'].value_counts().sort_values(ascending=False).head(10)\n",
    "mus_2020s = pd.DataFrame({'artists':b20.index}).merge(mus_2020s, how='left')\n",
    "# mus_2020s.to_csv('static/data/mus_2020s.csv', encoding='utf-8', index=False)\n",
    "mus_2020s.shape"
   ]
  },
  {
   "cell_type": "code",
   "execution_count": 48,
   "metadata": {},
   "outputs": [
    {
     "data": {
      "text/plain": [
       "Future, Lil Uzi Vert          75\n",
       "YoungBoy Never Broke Again    32\n",
       "J Balvin                      26\n",
       "NAV                           25\n",
       "BTS                           24\n",
       "The Kid LAROI                 23\n",
       "KAROL G                       22\n",
       "Lil Uzi Vert                  18\n",
       "Sam Smith                     16\n",
       "Machine Gun Kelly             16\n",
       "Name: artists, dtype: int64"
      ]
     },
     "execution_count": 48,
     "metadata": {},
     "output_type": "execute_result"
    }
   ],
   "source": [
    "mus_2020s['artists'].value_counts().nlargest(10)"
   ]
  },
  {
   "cell_type": "code",
   "execution_count": 49,
   "metadata": {},
   "outputs": [],
   "source": [
    "## All Decades Data Together\n",
    "\n",
    "all_mus = mus_1920s.append([mus_1930s, mus_1940s, mus_1950s, mus_1960s, mus_1970s, mus_1980s, mus_1990s, mus_2000s, mus_2010s, mus_2020s])\n",
    "all_mus.to_csv('data/clean_data_decade.csv', encoding='utf-8', index=False)"
   ]
  },
  {
   "cell_type": "code",
   "execution_count": 50,
   "metadata": {},
   "outputs": [
    {
     "data": {
      "text/plain": [
       "(15203, 22)"
      ]
     },
     "execution_count": 50,
     "metadata": {},
     "output_type": "execute_result"
    }
   ],
   "source": [
    "all_mus.shape"
   ]
  },
  {
   "cell_type": "code",
   "execution_count": null,
   "metadata": {},
   "outputs": [],
   "source": []
  }
 ],
 "metadata": {
  "kernelspec": {
   "display_name": "Python 3.8.2 64-bit",
   "language": "python",
   "name": "python38264bit6dd9b48f5e9c48faaa78ee1310cf828b"
  },
  "language_info": {
   "codemirror_mode": {
    "name": "ipython",
    "version": 3
   },
   "file_extension": ".py",
   "mimetype": "text/x-python",
   "name": "python",
   "nbconvert_exporter": "python",
   "pygments_lexer": "ipython3",
   "version": "3.8.2"
  }
 },
 "nbformat": 4,
 "nbformat_minor": 4
}
